{
 "cells": [
  {
   "cell_type": "code",
   "execution_count": 1,
   "metadata": {},
   "outputs": [
    {
     "name": "stdout",
     "output_type": "stream",
     "text": [
      "Listening...\n",
      "You said: new song all day long Kuwait\n",
      "Image for character ' ' does not exist in the folder.\n",
      "Image for character ' ' does not exist in the folder.\n",
      "Image for character ' ' does not exist in the folder.\n",
      "Image for character ' ' does not exist in the folder.\n",
      "Image for character ' ' does not exist in the folder.\n",
      "Listening...\n"
     ]
    }
   ],
   "source": [
    "import os\n",
    "import cv2\n",
    "import time\n",
    "import speech_recognition as sr\n",
    "\n",
    "# Folder containing images for each character\n",
    "folder_path = \"G:/D Drive/conference 2023/sign language/numbers/numbers\"  # Replace with your actual folder path\n",
    "\n",
    "# Function to display the image corresponding to a character\n",
    "def display_image(character):\n",
    "    image_path = os.path.join(folder_path, f\"{character}.jpg\")\n",
    "\n",
    "    if not os.path.exists(image_path):\n",
    "        print(f\"Image for character '{character}' does not exist in the folder.\")\n",
    "        return None\n",
    "\n",
    "    # Load and resize the image to a common size (e.g., 100x100 pixels)\n",
    "    image = cv2.imread(image_path)\n",
    "    image = cv2.resize(image, (100, 100))  # Adjust the size as needed\n",
    "\n",
    "    return image\n",
    "\n",
    "# Initialize the recognizer\n",
    "recognizer = sr.Recognizer()\n",
    "\n",
    "# Main loop for capturing audio and displaying corresponding images\n",
    "while True:\n",
    "    # Capture audio from the microphone\n",
    "    with sr.Microphone() as source:\n",
    "        print(\"Listening...\")\n",
    "        recognizer.pause_threshold = 2.0  # Wait for 2 seconds of silence\n",
    "        audio = recognizer.listen(source)\n",
    "    \n",
    "    # Recognize speech using Google Web Speech API\n",
    "    try:\n",
    "        text = recognizer.recognize_google(audio)\n",
    "        print(\"You said:\", text)\n",
    "        \n",
    "        if text.lower() == \"quit\":\n",
    "            break  # Exit the loop when \"quit\" is recognized\n",
    "        \n",
    "        images_to_display = []\n",
    "\n",
    "        # Loop through each character in the recognized text\n",
    "        for char in text.upper():  # Uppercase to match filenames\n",
    "            image = display_image(char)\n",
    "            if image is not None:\n",
    "                images_to_display.append(image)\n",
    "\n",
    "        # If there are images to display, concatenate and show them\n",
    "        if images_to_display:\n",
    "            row_image = cv2.hconcat(images_to_display)  # Concatenate images horizontally\n",
    "            cv2.imshow(\"Characters\", row_image)\n",
    "            cv2.waitKey(3000)  # Display for 3 seconds (3000 milliseconds)\n",
    "            cv2.destroyAllWindows()\n",
    "\n",
    "    except sr.UnknownValueError:\n",
    "        print(\"Sorry, I could not understand the audio.\")\n",
    "    except sr.RequestError as e:\n",
    "        print(f\"Could not request results; {e}\")\n",
    "\n",
    "    # Pause for 1 second before restarting the loop\n",
    "    time.sleep(1)\n",
    "\n",
    "# Exit message\n",
    "print(\"Goodbye!\")\n"
   ]
  }
 ],
 "metadata": {
  "kernelspec": {
   "display_name": "Python 3",
   "language": "python",
   "name": "python3"
  },
  "language_info": {
   "codemirror_mode": {
    "name": "ipython",
    "version": 3
   },
   "file_extension": ".py",
   "mimetype": "text/x-python",
   "name": "python",
   "nbconvert_exporter": "python",
   "pygments_lexer": "ipython3",
   "version": "3.12.5"
  },
  "orig_nbformat": 4
 },
 "nbformat": 4,
 "nbformat_minor": 2
}
